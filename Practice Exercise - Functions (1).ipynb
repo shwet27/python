{
 "cells": [
  {
   "cell_type": "markdown",
   "metadata": {},
   "source": [
    "# **USER DEFINED FUNCTION AND LAMBDA FUNCTIONS EXERCISE**"
   ]
  },
  {
   "cell_type": "markdown",
   "metadata": {},
   "source": [
    "### 1. Write a function to add, subtract, multiply and divide two variables passed to it and print the result "
   ]
  },
  {
   "cell_type": "code",
   "execution_count": 7,
   "metadata": {},
   "outputs": [
    {
     "name": "stdout",
     "output_type": "stream",
     "text": [
      "Addition 18\n",
      "Addition 6\n",
      "Addition 72\n",
      "Addition 2.0\n"
     ]
    }
   ],
   "source": [
    "def mths(a,b):\n",
    "    print('Addition',a+b)\n",
    "    print('Addition',a-b)\n",
    "    print('Addition',a*b)\n",
    "    print('Addition',a/b)\n",
    "\n",
    "mths(12,6)"
   ]
  },
  {
   "cell_type": "markdown",
   "metadata": {},
   "source": [
    "### 2. Write a Python function given range (1,10) both included, that gives the square of every number"
   ]
  },
  {
   "cell_type": "code",
   "execution_count": 14,
   "metadata": {},
   "outputs": [
    {
     "name": "stdout",
     "output_type": "stream",
     "text": [
      "square of 1 is 1\n",
      "square of 2 is 4\n",
      "square of 3 is 9\n",
      "square of 4 is 16\n",
      "square of 5 is 25\n",
      "square of 6 is 36\n",
      "square of 7 is 49\n",
      "square of 8 is 64\n",
      "square of 9 is 81\n",
      "square of 10 is 100\n"
     ]
    }
   ],
   "source": [
    "def square():\n",
    "    for i in range(1,11):\n",
    "        print(\"square of\",i,'is',i**2)\n",
    "\n",
    "square()"
   ]
  },
  {
   "cell_type": "markdown",
   "metadata": {},
   "source": [
    "### 3. Write a function to calculate simple interest\n",
    "\n",
    "simple interest = (Principal amount * Annual Rate of interest * Time(in years))/100\n",
    "\n",
    "Take values as follows\n",
    "\n",
    "Principal Amount = 1000\n",
    "\n",
    "Rate of interest = 3%\n",
    "\n",
    "Time = 5 years"
   ]
  },
  {
   "cell_type": "code",
   "execution_count": 21,
   "metadata": {},
   "outputs": [
    {
     "data": {
      "text/plain": [
       "150.0"
      ]
     },
     "execution_count": 21,
     "metadata": {},
     "output_type": "execute_result"
    }
   ],
   "source": [
    "def interest(P,R,T):\n",
    "    SI = (P * R * T)/100\n",
    "    return SI\n",
    "\n",
    "interest(1000,3,5)\n"
   ]
  },
  {
   "cell_type": "markdown",
   "metadata": {},
   "source": [
    "### 4. Write a function to check the number is divisible by 25. The function should return True if divisible and \"Not divisible\" if not"
   ]
  },
  {
   "cell_type": "code",
   "execution_count": 30,
   "metadata": {},
   "outputs": [
    {
     "data": {
      "text/plain": [
       "True"
      ]
     },
     "execution_count": 30,
     "metadata": {},
     "output_type": "execute_result"
    }
   ],
   "source": [
    "def divisibility(num):\n",
    "    if num % 25 == 0:\n",
    "        return True\n",
    "    else:\n",
    "        print(\"Not divisible\")\n",
    "\n",
    "divisibility(50)"
   ]
  },
  {
   "cell_type": "markdown",
   "metadata": {},
   "source": [
    "### 5. Define a function that takes an input, squares it, adds 5, then returns the answer"
   ]
  },
  {
   "cell_type": "code",
   "execution_count": 34,
   "metadata": {},
   "outputs": [
    {
     "data": {
      "text/plain": [
       "30"
      ]
     },
     "execution_count": 34,
     "metadata": {},
     "output_type": "execute_result"
    }
   ],
   "source": [
    "def abc(num):\n",
    "   res = num**2+5\n",
    "   return res\n",
    "\n",
    "abc(5)"
   ]
  },
  {
   "cell_type": "markdown",
   "metadata": {},
   "source": [
    "### 6. Using lambda function perform the following task : take an input, squares it, add 5, then return the answer"
   ]
  },
  {
   "cell_type": "code",
   "execution_count": 43,
   "metadata": {},
   "outputs": [
    {
     "data": {
      "text/plain": [
       "30"
      ]
     },
     "execution_count": 43,
     "metadata": {},
     "output_type": "execute_result"
    }
   ],
   "source": [
    "abc = lambda x:x**2+5\n",
    "abc(5)"
   ]
  },
  {
   "cell_type": "markdown",
   "metadata": {},
   "source": [
    "### 7. Write a function to calculate the power of a number raised to other ($a^b$)"
   ]
  },
  {
   "cell_type": "code",
   "execution_count": 53,
   "metadata": {},
   "outputs": [
    {
     "data": {
      "text/plain": [
       "49"
      ]
     },
     "execution_count": 53,
     "metadata": {},
     "output_type": "execute_result"
    }
   ],
   "source": [
    "def power(a,b):\n",
    "    res = a ** b\n",
    "    return res\n",
    "power(7,2)"
   ]
  },
  {
   "cell_type": "markdown",
   "metadata": {},
   "source": [
    "### 8. Write a function to calculate the area of a triangle\n",
    "\n",
    "area of triangle = 1/2 * base * height"
   ]
  },
  {
   "cell_type": "code",
   "execution_count": 59,
   "metadata": {},
   "outputs": [
    {
     "data": {
      "text/plain": [
       "25.0"
      ]
     },
     "execution_count": 59,
     "metadata": {},
     "output_type": "execute_result"
    }
   ],
   "source": [
    "def area_of_triangle(b,h):\n",
    "    area = 1/2*b*h\n",
    "    return area\n",
    "\n",
    "area_of_triangle(5,10)\n"
   ]
  },
  {
   "cell_type": "markdown",
   "metadata": {},
   "source": [
    "### 9. Create a function that takes country as the input and returns \"I am from *Country* \""
   ]
  },
  {
   "cell_type": "code",
   "execution_count": 67,
   "metadata": {},
   "outputs": [
    {
     "data": {
      "text/plain": [
       "'I am from India'"
      ]
     },
     "execution_count": 67,
     "metadata": {},
     "output_type": "execute_result"
    }
   ],
   "source": [
    "def country(name):\n",
    "    return \"I am from \"+name\n",
    "\n",
    "country(\"India\")"
   ]
  },
  {
   "cell_type": "markdown",
   "metadata": {},
   "source": [
    "### 10. Write a function to convert degree Celsius temperature to Fahrenheit"
   ]
  },
  {
   "cell_type": "code",
   "execution_count": 76,
   "metadata": {},
   "outputs": [
    {
     "data": {
      "text/plain": [
       "95.0"
      ]
     },
     "execution_count": 76,
     "metadata": {},
     "output_type": "execute_result"
    }
   ],
   "source": [
    "def temp(cel):\n",
    "    Fah = 9/5 * cel + 32\n",
    "    return Fah\n",
    "temp(35)\n"
   ]
  },
  {
   "cell_type": "code",
   "execution_count": null,
   "metadata": {},
   "outputs": [],
   "source": []
  }
 ],
 "metadata": {
  "kernelspec": {
   "display_name": "Python 3 (ipykernel)",
   "language": "python",
   "name": "python3"
  },
  "language_info": {
   "codemirror_mode": {
    "name": "ipython",
    "version": 3
   },
   "file_extension": ".py",
   "mimetype": "text/x-python",
   "name": "python",
   "nbconvert_exporter": "python",
   "pygments_lexer": "ipython3",
   "version": "3.11.7"
  }
 },
 "nbformat": 4,
 "nbformat_minor": 4
}
